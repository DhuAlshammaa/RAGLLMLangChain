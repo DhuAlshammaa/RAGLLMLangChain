{
 "cells": [
  {
   "cell_type": "code",
   "execution_count": 242,
   "id": "c08f6db2",
   "metadata": {},
   "outputs": [
    {
     "data": {
      "text/plain": [
       "True"
      ]
     },
     "execution_count": 242,
     "metadata": {},
     "output_type": "execute_result"
    }
   ],
   "source": [
    "import os\n",
    "import dotenv\n",
    "from pathlib import Path\n",
    "\n",
    "# LangChain and related imports\n",
    "from langchain_core.messages import AIMessage, HumanMessage\n",
    "from langchain_community.document_loaders import (\n",
    "    TextLoader,\n",
    "    WebBaseLoader,\n",
    "    PyPDFLoader,\n",
    "    Docx2txtLoader,\n",
    ")\n",
    "from langchain_community.vectorstores import Chroma\n",
    "from langchain.text_splitter import RecursiveCharacterTextSplitter\n",
    "from langchain_openai import OpenAIEmbeddings, ChatOpenAI\n",
    "from langchain_anthropic import ChatAnthropic\n",
    "from langchain_core.prompts import ChatPromptTemplate, MessagesPlaceholder\n",
    "from langchain.chains import create_history_aware_retriever, create_retrieval_chain\n",
    "from langchain.chains.combine_documents import create_stuff_documents_chain\n",
    "\n",
    "# Load environment variables\n",
    "from dotenv import load_dotenv\n",
    "load_dotenv()\n",
    "\n"
   ]
  },
  {
   "cell_type": "code",
   "execution_count": 243,
   "id": "95e418f2",
   "metadata": {},
   "outputs": [
    {
     "name": "stdout",
     "output_type": "stream",
     "text": [
      "Total documents loaded: 4\n"
     ]
    }
   ],
   "source": [
    "doc_path = [\n",
    "    \"docs/test_rag.pdf\",\n",
    "    \"docs/test_rag.docx\",\n",
    "    \"docs/Document 4.pdf\"\n",
    "]\n",
    "\n",
    "docs =[]\n",
    "for doc_file in doc_path: \n",
    "    file_path = Path(doc_file)\n",
    "    try: \n",
    "        if doc_file.endswith(\".pdf\"):\n",
    "            loader = PyPDFLoader(file_path)\n",
    "        elif doc_file.endswith(\".docx\"):\n",
    "            loader = Docx2txtLoader(file_path)\n",
    "        elif doc_file.endswith(\".txt\") or doc_file.endswith(\".md\"):\n",
    "            loader = TextLoader(file_path)\n",
    "        else:\n",
    "            print(f\"Documents type {file_path.type} not supported.\")\n",
    "            continue\n",
    "        # Make the Docs in one object has all the Docs\n",
    "        docs.extend(loader.load())\n",
    "    except Exception as e : \n",
    "        print(f\"Error loading the document {doc_file}: {e}\")\n",
    "    \n",
    "  #  finally:\n",
    "      #  os.remove(file_path)\n",
    "\n",
    "    #Load webs URLs\n",
    "\n",
    "web_urls = [\n",
    "    \"https://docs.streamlit.io/develop/quick-reference/release-notes\",\n",
    "    \n",
    "]\n",
    "\n",
    "# Container for all loaded documents\n",
    "docs = []\n",
    "\n",
    "# Load local files\n",
    "for doc_file in doc_path: \n",
    "    file_path = Path(doc_file)\n",
    "    try: \n",
    "        if doc_file.endswith(\".pdf\"):\n",
    "            loader = PyPDFLoader(file_path)\n",
    "        elif doc_file.endswith(\".docx\"):\n",
    "            loader = Docx2txtLoader(file_path)\n",
    "        elif doc_file.endswith(\".txt\") or doc_file.endswith(\".md\"):\n",
    "            loader = TextLoader(file_path)\n",
    "        else:\n",
    "            print(f\"Document type {file_path.suffix} not supported.\")\n",
    "            continue\n",
    "        docs.extend(loader.load())\n",
    "    except Exception as e:\n",
    "        print(f\"Error loading the document {doc_file}: {e}\")\n",
    "\n",
    "# Load URLs\n",
    "for url in web_urls:\n",
    "    try:\n",
    "        loader = WebBaseLoader(url)\n",
    "        docs.extend(loader.load())\n",
    "    except Exception as e:\n",
    "        print(f\"Error loading document from {url}: {e}\")\n",
    "\n",
    "# Optional: view result\n",
    "print(f\"Total documents loaded: {len(docs)}\")\n"
   ]
  },
  {
   "cell_type": "code",
   "execution_count": 244,
   "id": "645f0c16",
   "metadata": {},
   "outputs": [
    {
     "data": {
      "text/plain": [
       "[Document(metadata={'producer': 'Microsoft® Word for Microsoft 365', 'creator': 'Microsoft® Word for Microsoft 365', 'creationdate': '2025-07-20T21:27:11-07:00', 'author': 'Dhu Shammaa', 'moddate': '2025-07-20T21:27:11-07:00', 'source': 'docs\\\\test_rag.pdf', 'total_pages': 1, 'page': 0, 'page_label': '1'}, page_content='My favorite food os margarita pizza \\nThere are 47588 bottles in the truck..'),\n",
       " Document(metadata={'source': 'docs\\\\test_rag.docx'}, page_content='My favorite food os margarita pizza\\n\\nThere are 47588 bottles in the truck..'),\n",
       " Document(metadata={'producer': 'PyPDF', 'creator': 'Microsoft Word', 'creationdate': '2025-02-05T14:33:45-08:00', 'author': 'Dhu Shammaa', 'moddate': '2025-02-05T14:33:45-08:00', 'source': 'docs\\\\Document 4.pdf', 'total_pages': 1, 'page': 0, 'page_label': '1'}, page_content='Dhulfiqar Alshammaa | Los Angeles, CA | U.S. Citizen | Open to relocate  \\n📧 alshammaa.dhu@gmail.com | 📞 (818) 220-3481 \\n \\nDear Hiring Manager, \\nI am excited to apply for the Senior Machine Learning Engineer position at EvolutionIQ. \\nWith a strong background in machine learning, data-driven decision-making, and \\ninfrastructure optimization, I am eager to contribute to EvolutionIQ’s mission of \\ntransforming the insurance space through AI-driven solutions. \\nAt 101GenAI, I was part of the team that developed a healthcare-focused chatbot using \\nRAG and LLMs (GPT-4.0, Claude 3), improving medical consultations and increasing user \\nsatisfaction by 20%. I also optimized data pipelines and inference models, reducing \\nprocessing time by 15%. \\nAt AT&T, I analyzed AWS network operations for enterprise clients, leading infrastructure \\nupgrades that enhanced system reliability by 30% and reduced resolution times by 25%. \\nAt US Radiology, I built predictive models and dashboards to analyze medical claims, lab \\nresults, and clinical data, improving patient triage efficiency and increasing reviewed \\ncases by 16%. \\nI am highly proficient in Python, SQL, and machine learning frameworks and thrive in \\nenvironments that require innovative problem-solving and collaboration. I welcome the \\nopportunity to discuss how my expertise aligns with EvolutionIQ’s goals. \\nBest regards, \\nDhulfiqar Alshammaa'),\n",
       " Document(metadata={'source': 'https://docs.streamlit.io/develop/quick-reference/release-notes', 'title': 'Release notes - Streamlit Docs', 'description': 'A changelog of highlights and fixes for each version of Streamlit.', 'language': 'No language found.'}, page_content='Release notes - Streamlit DocsDocumentationsearchSearchrocket_launchGet startedInstallationaddFundamentalsaddFirst stepsaddcodeDevelopConceptsaddAPI referenceaddTutorialsaddQuick referenceremoveCheat sheetRelease notesremove2025202420232022202120202019Pre-release featuresRoadmapopen_in_newweb_assetDeployConceptsaddStreamlit Community CloudaddSnowflakeOther platformsaddschoolKnowledge baseFAQInstalling dependenciesDeployment issuesHome/Develop/Quick reference/Release notesRelease notes\\nThis page lists highlights, bug fixes, and known issues for the latest release of Streamlit. If you\\'re looking for information about nightly releases or experimental features, see Pre-release features.\\nUpgrade Streamlit\\nstarTipTo upgrade to the latest version of Streamlit, run:pip install --upgrade streamlit\\n\\nVersion 1.47.0 (latest)\\nRelease date: July 16, 2025\\nHighlights\\n\\n🎨\\xa0Streamlit has additional theming configuration options!\\n\\ntheme.baseFontWeight: Set the root font weight of text in the app.\\ntheme.chartCategoricalColors: Configure default categorical colors for Plotly, Altair, and Vega-Lite charts.\\ntheme.chartSequentialColors: Configure default sequential colors for Plotly, Altair, and Vega-Lite charts.\\ntheme.codeFontWeight: Set the font weight of code text.\\ntheme.dataframeHeaderBackgroundColor: Set the background color of dataframe headers.\\ntheme.headingFontSizes: Set the font sizes of headings.\\ntheme.headingFontWeights: Set the font weights of headings.\\ntheme.linkUnderline: Configure whether to underline links.\\n\\n\\n\\nNotable Changes\\n\\n💬\\xa0You can set the unsubmitted value of st.chat_input through Session State (#10175, #7166).\\n↔️\\xa0You can set a width parameter for st.html, st.feedback, st.pills, st.segmented_control, and st.multiselect.\\n↕️\\xa0You can set a height parameter for st.metric and st.text_area.\\n👩\\u200d💻\\xa0st.code and st.form can have height=\"stretch\".\\n🧑\\u200d💻\\xa0st.code can have width=\"content\".\\n⏱️\\xa0You can show the elapsed time with the spinner for cached functions using the show_time parameter (#11469, #10647). Thanks, Darkace01!\\nserver.showEmailPrompt lets you configure whether to show the email prompt (for locally running apps).\\n💾\\xa0NumberColumn and ProgressColumn support \"bytes\" as a predefined format (#11288, #11287). Thanks, cgivre!\\n⚙️\\xa0Column configuration accepts pixel widths for columns (#11838).\\nℹ️\\xa0The display_text parameter of LinkColumn accepts a Material icon (#11690, #7004).\\n🖊️\\xa0The title parameter of st.dialog accepts Markdown (#11763, #11755).\\n🧩\\xa0To support proxying requests for custom components, in declare_component, you can set both url and path (#11698).\\n\\nOther Changes\\n\\n🧭\\xa0Section labels in the sidebar navigation widget are collapsible (#11863).\\n📂\\xa0The \"Deploy\" button is hidden when the \"File change\" notification is visible in the app chrome (#11834).\\n🔝\\xa0When using top navigation in an app, the header has more padding (#11836).\\n🪜\\xa0In NumberColumn, the precision from step will override the display precision from format, unless format is a printf string (#11835).\\n📅\\xa0When st.date_input accepts a date range, the widget displays a quick-select option below the calendar for common date ranges (#10166, #11108).\\n🏋️\\xa0Dataframes support font weight defined in pandas Styler objects (#11705, #6461).\\n🫥\\xa0The about dialog does not show by default in the app menu. The current Streamlit version is displayed in the settings dialog (#10091).\\n💅\\xa0st.metric uses a background color for the delta value, like st.badge (#11678).\\n💻\\xa0IDEs can give type hints for .clear() on cached functions (#11793, #11821). Thanks, whitphx!\\n🔄\\xa0Bug swap: To prevent a multipage app regression, st.context.theme does not automatically rerun the app on first load. In some cases, st.context.theme may not be correct until the first rerun (#11870, #11797).\\n🧹\\xa0Bug fix: st.chat_input displays correctly at the bottom of the screen in mobile view (#11896, #11722, #11891).\\n⏳\\xa0Bug fix: When a WebSocket reconnects, the app will fully rerun to prevent missing fragments (#11890, #11660).\\n🪱\\xa0Bug fix: To reduce No such file or directory errors, the file watcher has more robust exception handling and clearer logging (#11871, #11841, #11809, #11728).\\n💩\\xa0Bug fix: Vega-Lite facet charts do not flicker (#11833).\\n☠️\\xa0Bug fix: When the initial sidebar state is set to \"collapsed\", the sidebar correctly loads in a collapsed state without flickering open (#11861, #11848).\\n👽\\xa0Bug fix: To prevent apps from being out of sync with their current code at a later time, Streamlit clears the script cache when all file watchers disconnect (#11876, #11739). Thanks, diwu-sf!\\n👻\\xa0Bug fix: Inline code in tooltips has the same relative size as inline code in other Markdown text (#11877).\\n🦀\\xa0Bug fix: st.multiselect and st.selectbox display the correct placeholder text when accept_new_options=True (#11623, #11609).\\n🦋\\xa0Bug fix: The column visibility menu can be closed by toggling the toolbar icon (#11857, #11801).\\n🦎\\xa0Bug fix: Progress bar columns in dataframes have the correct padding between the bar and its label (#11685).\\n🐌\\xa0Bug fix: The warning indicator in a dataframe cell adapts to theme configuration (#11682).\\n🕸️\\xa0Bug fix: To fix multiple visual and UX bugs in dataframe, glide-data-grid was updated (#11677, #8310, #9498, #9471).\\n🦗\\xa0Bug fix: In the sidebar navigation widget, font spacing and weight were adjust for visual clarity (#11814).\\n🦂\\xa0Bug fix: Altair charts correctly resize in width to match their container (#11807, #11802).\\n🦟\\xa0Bug fix: The running-man icon matches the theme configuration (#11461, #11371). Thanks, TreavVasu!\\n🦠\\xa0Bug fix: The top header background is correctly opaque when it contains elements (#11787, #11785).\\n🪰\\xa0Bug fix: Extra top padding is removed when printing (#11798).\\n🪳\\xa0Bug fix: Markdown inline code displays correctly when unsafe_allow_html=True (#11817, #11800). Thanks, bajajku!\\n🕷️\\xa0Bug fix: The WebSocket ping interval does not exceed the timeout interval (#11693, #11670).\\n🐞\\xa0Bug fix: The sidebar state initialized correctly on Community Cloud and page content slides and resizes correctly in response to the sidebar (#11732, #11702, #11710).\\n🐝\\xa0Bug fix: The timer in st.spinner uses system time to prevent pausing when the user focuses on another browser tab (#11756, #11720).\\n🐜\\xa0Bug fix: Empty containers with borders and empty expanders are visible before elements are added to them (#11669).\\n🪲\\xa0Bug fix: st.audio_input and st.camera_input have consistent appearances (#11699, #11700).\\n🐛\\xa0Bug fix: To prevent a race condition, the file watcher correctly applies a lock to watched paths (#11692, #11691).\\n\\nOlder versions of Streamlit\\n\\n2025 release notes\\n2024 release notes\\n2023 release notes\\n2022 release notes\\n2021 release notes\\n2020 release notes\\n2019 release notes\\nPrevious: Cheat sheetNext: 2025forumStill have questions?Our forums are full of helpful information and Streamlit experts.HomeContact UsCommunity© 2025 Snowflake Inc.Cookie policyforum Ask AI')]"
      ]
     },
     "execution_count": 244,
     "metadata": {},
     "output_type": "execute_result"
    }
   ],
   "source": [
    "docs"
   ]
  },
  {
   "cell_type": "code",
   "execution_count": 245,
   "id": "cc48b715",
   "metadata": {},
   "outputs": [],
   "source": [
    "# Split the files to chunks \n",
    "#The recursive splitter will try to chunk it at:\n",
    "# The recursive splitter will try to chunk it at:\n",
    "# Paragraph breaks first\n",
    "# Then sentence boundaries\n",
    "# Then newlines\n",
    "# Then spaces\n",
    "# Then finally by character count if necessary\n",
    "\n",
    "\n",
    "\n",
    "text_splitter = RecursiveCharacterTextSplitter(\n",
    "    chunk_size=5000,\n",
    "    chunk_overlap=1000,\n",
    ")\n",
    "documents_chunks = text_splitter.split_documents(docs)"
   ]
  },
  {
   "cell_type": "code",
   "execution_count": 246,
   "id": "002aea3d",
   "metadata": {},
   "outputs": [],
   "source": [
    "#  Tokenization vs. Embedding — Explained\n",
    "# 🟦 Tokenization\n",
    "# What it is: Splitting text into smaller units called tokens (e.g., words, subwords, or even characters).\n",
    "\n",
    "# Why it’s used: Language models like GPT or BERT don't read raw text — they process tokens.\n",
    "\n",
    "# Example:\n",
    "\n",
    "# text\n",
    "# Copy\n",
    "# Edit\n",
    "# Input: \"I love pizza\"\n",
    "# Tokens: [\"I\", \" love\", \" pizza\"]\n",
    "# ✅ Tokenization is like turning sentences into ID numbers the model can understand.\n",
    "\n",
    "# 🟩 Embedding\n",
    "# What it is: Mapping each token (or whole sentence) to a vector of numbers that captures its meaning.\n",
    "\n",
    "# Why it’s used: Embeddings let models compare meanings, search for similarity, and reason.\n",
    "\n",
    "# Types:\n",
    "\n",
    "# Word embeddings (like Word2Vec, GloVe)\n",
    "\n",
    "# Sentence/document embeddings (like OpenAI’s text-embedding-3-small)\n",
    "\n",
    "# Example:\n",
    "\n",
    "# text\n",
    "# Copy\n",
    "# Edit\n",
    "# Token: \"pizza\" → Embedding: [0.27, -0.41, 0.89, ...]\n",
    "# 🔄 Workflow Relationship\n",
    "# In a typical NLP pipeline:\n",
    "\n",
    "# scss\n",
    "# Copy\n",
    "# Edit\n",
    "# Text → Tokenization → Tokens → Embedding → Vector(s)\n",
    "# Tokenization: turns text into symbols (tokens)\n",
    "\n",
    "# Embedding: turns symbols into meaning (vectors)\n",
    "\n",
    "# 🧩 In LangChain or RAG:\n",
    "# Tokenization affects chunking and cost estimation (e.g., 4096 token limits).\n",
    "\n",
    "# Embedding is used for vector search and similarity (e.g., searching documents by meaning).\n",
    "\n",
    "# ✅ Summary Table:\n",
    "# Feature\tTokenization\tEmbedding\n",
    "# Purpose\tBreak text into tokens\tMap tokens/text into numeric vectors\n",
    "# Output\tList of tokens (strings or IDs)\tVectors (arrays of floats)\n",
    "# Used for\tInput to models\tSemantic similarity, search\n",
    "# Tools\ttiktoken, HuggingFace Tokenizers\tOpenAI Embedding API, SentenceTransformers\n"
   ]
  },
  {
   "cell_type": "code",
   "execution_count": 247,
   "id": "55fd3678",
   "metadata": {},
   "outputs": [],
   "source": [
    "#After we done with Split the documents to chunks \n",
    "# We will use tokenizer to trasfer this chunks to token \n",
    "# Token means we will still have the words but \n",
    "# We will trasfer the words to token \n",
    "# 1 toke can be one world more than one word and may be part of a word \n",
    "\n",
    "#  Rough Estimate (for English & GPT models)\n",
    "# 1 token ≈ 3 to 4 characters (letters)\n",
    "\n",
    "# 1 token ≈ 0.75 words\n",
    "\n",
    "# 100 tokens ≈ 75 words ≈ 300–400 characters\n",
    "\n",
    "\n",
    "\n",
    "vector_db = Chroma.from_documents (\n",
    "    documents = documents_chunks,\n",
    "    embedding = OpenAIEmbeddings(),\n",
    ")\n",
    "\n",
    "# 🟢 1. Chroma.from_documents(...)\n",
    "# This is a class method that:\n",
    "\n",
    "# Takes a list of documents (your split chunks)\n",
    "\n",
    "# Converts them into vector embeddings using the provided embedding model\n",
    "\n",
    "# Stores them in a ChromaDB instance (either in-memory or on disk)\n",
    "\n",
    "# This allows you to later search for similar documents using vector similarity (like cosine similarity)."
   ]
  },
  {
   "cell_type": "code",
   "execution_count": 248,
   "id": "d435d9c6",
   "metadata": {},
   "outputs": [
    {
     "data": {
      "text/plain": [
       "[Document(metadata={'producer': 'Microsoft® Word for Microsoft 365', 'creator': 'Microsoft® Word for Microsoft 365', 'creationdate': '2025-07-20T21:27:11-07:00', 'author': 'Dhu Shammaa', 'moddate': '2025-07-20T21:27:11-07:00', 'source': 'docs\\\\test_rag.pdf', 'total_pages': 1, 'page': 0, 'page_label': '1'}, page_content='My favorite food os margarita pizza \\nThere are 47588 bottles in the truck..'),\n",
       " Document(metadata={'source': 'docs\\\\test_rag.docx'}, page_content='My favorite food os margarita pizza\\n\\nThere are 47588 bottles in the truck..'),\n",
       " Document(metadata={'producer': 'PyPDF', 'creator': 'Microsoft Word', 'creationdate': '2025-02-05T14:33:45-08:00', 'author': 'Dhu Shammaa', 'moddate': '2025-02-05T14:33:45-08:00', 'source': 'docs\\\\Document 4.pdf', 'total_pages': 1, 'page': 0, 'page_label': '1'}, page_content='Dhulfiqar Alshammaa | Los Angeles, CA | U.S. Citizen | Open to relocate  \\n📧 alshammaa.dhu@gmail.com | 📞 (818) 220-3481 \\n \\nDear Hiring Manager, \\nI am excited to apply for the Senior Machine Learning Engineer position at EvolutionIQ. \\nWith a strong background in machine learning, data-driven decision-making, and \\ninfrastructure optimization, I am eager to contribute to EvolutionIQ’s mission of \\ntransforming the insurance space through AI-driven solutions. \\nAt 101GenAI, I was part of the team that developed a healthcare-focused chatbot using \\nRAG and LLMs (GPT-4.0, Claude 3), improving medical consultations and increasing user \\nsatisfaction by 20%. I also optimized data pipelines and inference models, reducing \\nprocessing time by 15%. \\nAt AT&T, I analyzed AWS network operations for enterprise clients, leading infrastructure \\nupgrades that enhanced system reliability by 30% and reduced resolution times by 25%. \\nAt US Radiology, I built predictive models and dashboards to analyze medical claims, lab \\nresults, and clinical data, improving patient triage efficiency and increasing reviewed \\ncases by 16%. \\nI am highly proficient in Python, SQL, and machine learning frameworks and thrive in \\nenvironments that require innovative problem-solving and collaboration. I welcome the \\nopportunity to discuss how my expertise aligns with EvolutionIQ’s goals. \\nBest regards, \\nDhulfiqar Alshammaa'),\n",
       " Document(metadata={'source': 'https://docs.streamlit.io/develop/quick-reference/release-notes', 'title': 'Release notes - Streamlit Docs', 'description': 'A changelog of highlights and fixes for each version of Streamlit.', 'language': 'No language found.'}, page_content='Release notes - Streamlit DocsDocumentationsearchSearchrocket_launchGet startedInstallationaddFundamentalsaddFirst stepsaddcodeDevelopConceptsaddAPI referenceaddTutorialsaddQuick referenceremoveCheat sheetRelease notesremove2025202420232022202120202019Pre-release featuresRoadmapopen_in_newweb_assetDeployConceptsaddStreamlit Community CloudaddSnowflakeOther platformsaddschoolKnowledge baseFAQInstalling dependenciesDeployment issuesHome/Develop/Quick reference/Release notesRelease notes\\nThis page lists highlights, bug fixes, and known issues for the latest release of Streamlit. If you\\'re looking for information about nightly releases or experimental features, see Pre-release features.\\nUpgrade Streamlit\\nstarTipTo upgrade to the latest version of Streamlit, run:pip install --upgrade streamlit\\n\\nVersion 1.47.0 (latest)\\nRelease date: July 16, 2025\\nHighlights\\n\\n🎨\\xa0Streamlit has additional theming configuration options!\\n\\ntheme.baseFontWeight: Set the root font weight of text in the app.\\ntheme.chartCategoricalColors: Configure default categorical colors for Plotly, Altair, and Vega-Lite charts.\\ntheme.chartSequentialColors: Configure default sequential colors for Plotly, Altair, and Vega-Lite charts.\\ntheme.codeFontWeight: Set the font weight of code text.\\ntheme.dataframeHeaderBackgroundColor: Set the background color of dataframe headers.\\ntheme.headingFontSizes: Set the font sizes of headings.\\ntheme.headingFontWeights: Set the font weights of headings.\\ntheme.linkUnderline: Configure whether to underline links.\\n\\n\\n\\nNotable Changes\\n\\n💬\\xa0You can set the unsubmitted value of st.chat_input through Session State (#10175, #7166).\\n↔️\\xa0You can set a width parameter for st.html, st.feedback, st.pills, st.segmented_control, and st.multiselect.\\n↕️\\xa0You can set a height parameter for st.metric and st.text_area.\\n👩\\u200d💻\\xa0st.code and st.form can have height=\"stretch\".\\n🧑\\u200d💻\\xa0st.code can have width=\"content\".\\n⏱️\\xa0You can show the elapsed time with the spinner for cached functions using the show_time parameter (#11469, #10647). Thanks, Darkace01!\\nserver.showEmailPrompt lets you configure whether to show the email prompt (for locally running apps).\\n💾\\xa0NumberColumn and ProgressColumn support \"bytes\" as a predefined format (#11288, #11287). Thanks, cgivre!\\n⚙️\\xa0Column configuration accepts pixel widths for columns (#11838).\\nℹ️\\xa0The display_text parameter of LinkColumn accepts a Material icon (#11690, #7004).\\n🖊️\\xa0The title parameter of st.dialog accepts Markdown (#11763, #11755).\\n🧩\\xa0To support proxying requests for custom components, in declare_component, you can set both url and path (#11698).\\n\\nOther Changes'),\n",
       " Document(metadata={'source': 'https://docs.streamlit.io/develop/quick-reference/release-notes', 'title': 'Release notes - Streamlit Docs', 'description': 'A changelog of highlights and fixes for each version of Streamlit.', 'language': 'No language found.'}, page_content='Other Changes\\n\\n🧭\\xa0Section labels in the sidebar navigation widget are collapsible (#11863).\\n📂\\xa0The \"Deploy\" button is hidden when the \"File change\" notification is visible in the app chrome (#11834).\\n🔝\\xa0When using top navigation in an app, the header has more padding (#11836).\\n🪜\\xa0In NumberColumn, the precision from step will override the display precision from format, unless format is a printf string (#11835).\\n📅\\xa0When st.date_input accepts a date range, the widget displays a quick-select option below the calendar for common date ranges (#10166, #11108).\\n🏋️\\xa0Dataframes support font weight defined in pandas Styler objects (#11705, #6461).\\n🫥\\xa0The about dialog does not show by default in the app menu. The current Streamlit version is displayed in the settings dialog (#10091).\\n💅\\xa0st.metric uses a background color for the delta value, like st.badge (#11678).\\n💻\\xa0IDEs can give type hints for .clear() on cached functions (#11793, #11821). Thanks, whitphx!\\n🔄\\xa0Bug swap: To prevent a multipage app regression, st.context.theme does not automatically rerun the app on first load. In some cases, st.context.theme may not be correct until the first rerun (#11870, #11797).\\n🧹\\xa0Bug fix: st.chat_input displays correctly at the bottom of the screen in mobile view (#11896, #11722, #11891).\\n⏳\\xa0Bug fix: When a WebSocket reconnects, the app will fully rerun to prevent missing fragments (#11890, #11660).\\n🪱\\xa0Bug fix: To reduce No such file or directory errors, the file watcher has more robust exception handling and clearer logging (#11871, #11841, #11809, #11728).\\n💩\\xa0Bug fix: Vega-Lite facet charts do not flicker (#11833).\\n☠️\\xa0Bug fix: When the initial sidebar state is set to \"collapsed\", the sidebar correctly loads in a collapsed state without flickering open (#11861, #11848).\\n👽\\xa0Bug fix: To prevent apps from being out of sync with their current code at a later time, Streamlit clears the script cache when all file watchers disconnect (#11876, #11739). Thanks, diwu-sf!\\n👻\\xa0Bug fix: Inline code in tooltips has the same relative size as inline code in other Markdown text (#11877).\\n🦀\\xa0Bug fix: st.multiselect and st.selectbox display the correct placeholder text when accept_new_options=True (#11623, #11609).\\n🦋\\xa0Bug fix: The column visibility menu can be closed by toggling the toolbar icon (#11857, #11801).\\n🦎\\xa0Bug fix: Progress bar columns in dataframes have the correct padding between the bar and its label (#11685).\\n🐌\\xa0Bug fix: The warning indicator in a dataframe cell adapts to theme configuration (#11682).\\n🕸️\\xa0Bug fix: To fix multiple visual and UX bugs in dataframe, glide-data-grid was updated (#11677, #8310, #9498, #9471).\\n🦗\\xa0Bug fix: In the sidebar navigation widget, font spacing and weight were adjust for visual clarity (#11814).\\n🦂\\xa0Bug fix: Altair charts correctly resize in width to match their container (#11807, #11802).\\n🦟\\xa0Bug fix: The running-man icon matches the theme configuration (#11461, #11371). Thanks, TreavVasu!\\n🦠\\xa0Bug fix: The top header background is correctly opaque when it contains elements (#11787, #11785).\\n🪰\\xa0Bug fix: Extra top padding is removed when printing (#11798).\\n🪳\\xa0Bug fix: Markdown inline code displays correctly when unsafe_allow_html=True (#11817, #11800). Thanks, bajajku!\\n🕷️\\xa0Bug fix: The WebSocket ping interval does not exceed the timeout interval (#11693, #11670).\\n🐞\\xa0Bug fix: The sidebar state initialized correctly on Community Cloud and page content slides and resizes correctly in response to the sidebar (#11732, #11702, #11710).\\n🐝\\xa0Bug fix: The timer in st.spinner uses system time to prevent pausing when the user focuses on another browser tab (#11756, #11720).\\n🐜\\xa0Bug fix: Empty containers with borders and empty expanders are visible before elements are added to them (#11669).\\n🪲\\xa0Bug fix: st.audio_input and st.camera_input have consistent appearances (#11699, #11700).\\n🐛\\xa0Bug fix: To prevent a race condition, the file watcher correctly applies a lock to watched paths (#11692, #11691).\\n\\nOlder versions of Streamlit\\n\\n2025 release notes\\n2024 release notes\\n2023 release notes\\n2022 release notes\\n2021 release notes\\n2020 release notes\\n2019 release notes\\nPrevious: Cheat sheetNext: 2025forumStill have questions?Our forums are full of helpful information and Streamlit experts.HomeContact UsCommunity© 2025 Snowflake Inc.Cookie policyforum Ask AI')]"
      ]
     },
     "execution_count": 248,
     "metadata": {},
     "output_type": "execute_result"
    }
   ],
   "source": [
    "documents_chunks\n"
   ]
  },
  {
   "cell_type": "code",
   "execution_count": 249,
   "id": "35667acd",
   "metadata": {},
   "outputs": [],
   "source": [
    "# # Find the retriver chat and documents \n",
    "def _get_context_retriever_chain (vector_db, llm):\n",
    "    #This turns your Chroma DB into a retriever object. LangChain uses this for semantic search over embeddings.\n",
    "    retriever = vector_db.as_retriever()\n",
    "\n",
    "    #This block defines the prompt that the LLM will see when it's generating a search query.\n",
    "    prompt = ChatPromptTemplate.from_messages([\n",
    "        MessagesPlaceholder(variable_name=\"messages\"),\n",
    "            (\"user\", \"{input}\"),\n",
    "            (\"user\",\"Given the above conversation,generate a search query to look up in order to n\\\n",
    "            get information relevant to the conversation, focusing on the most recent message.\"),\n",
    "            ])\n",
    "    retriever_chain = create_history_aware_retriever ( llm, retriever, prompt)\n",
    "\n",
    "    return retriever_chain #  this chain returns a retriever chain (not string). It returns Runnable that gives relevant Document objects based on message history."
   ]
  },
  {
   "cell_type": "code",
   "execution_count": 250,
   "id": "ab74a8e8",
   "metadata": {},
   "outputs": [],
   "source": [
    "# this for complete RAG chain \n",
    "def get_conversational_rag_chain(llm):\n",
    "    #Output of this step: a LangChain retriever chain that returns List[Document]\n",
    "    retriever_chain = _get_context_retriever_chain (vector_db, llm)\n",
    "    #{context} placeholder that gets filled with relevant docs\n",
    "    prompt = ChatPromptTemplate.from_messages([\n",
    "        (\"system\" ,\n",
    "        \"\"\"You are a helpful assistant. Ypu will have to answer to user's queries \n",
    "        You will have some context to help with your answer, but now always would be completely related or helpful.\n",
    "        You can also use your knowledge to assit answering the user's queries.\\n            \n",
    "        {context}\"\"\"),\n",
    "        MessagesPlaceholder(variable_name=\"messages\"),\n",
    "        (\"user\",\"{input}\")\n",
    "    ])\n",
    "    # the output of stuff_documents_chain will be a string\n",
    "    stuff_documents_chain = stuff_documents_chain = create_stuff_documents_chain(llm, prompt)\n",
    "\n",
    "    return create_retrieval_chain(retriever_chain, stuff_documents_chain)\n",
    "    #Date 07/27/2025"
   ]
  },
  {
   "cell_type": "code",
   "execution_count": 254,
   "id": "88c63e46",
   "metadata": {},
   "outputs": [
    {
     "name": "stdout",
     "output_type": "stream",
     "text": [
      "You are applying to EvolutionIQ for the Senior Machine Learning Engineer position."
     ]
    }
   ],
   "source": [
    "#Agmented Generation \n",
    "\n",
    "llm_stream_openai = ChatOpenAI(\n",
    "    model=\"gpt-4o\",\n",
    "    temperature=0.3,\n",
    "    streaming=True,\n",
    ")\n",
    "\n",
    "llm_stream_anthropic = ChatAnthropic(\n",
    "    model=\"claude-.-5-sonnet\",\n",
    "    temperature =0.3,\n",
    "    streaming=True,\n",
    ")\n",
    "\n",
    "llm_stream =llm_stream_openai \n",
    "\n",
    "messages = [\n",
    "    {\"role\" : \"user\",\"content\":\"Hi\"},\n",
    "    {\"role\" : \"assistant\", \"content\": \"Hi there! How can I assist you today ? \"},\n",
    "    {\"role\" : \"user\", \"content\" : \"what the company name Im trying to apply to\" },\n",
    "]\n",
    "\n",
    "messages = [HumanMessage(content=m[\"content\"]) if m[\"role\"] == \"user\" else AIMessage(content=m[\"content\"]) for m in messages]\n",
    "\n",
    "conversation_rag_chain = get_conversational_rag_chain(llm_stream)\n",
    "response_message = \"*(RAG Response)*\\n\"\n",
    "for chunk in conversation_rag_chain.pick(\"answer\").stream({\"messages\": messages[:-1], \"input\":messages[-1].content}):\n",
    "    response_message += chunk \n",
    "    print(chunk,end=\"\", flush =True)\n",
    "    messages.append({\"role\": \"assistant\",\"content\": response_message})\n",
    "\n"
   ]
  }
 ],
 "metadata": {
  "kernelspec": {
   "display_name": "GenAi",
   "language": "python",
   "name": "python3"
  },
  "language_info": {
   "codemirror_mode": {
    "name": "ipython",
    "version": 3
   },
   "file_extension": ".py",
   "mimetype": "text/x-python",
   "name": "python",
   "nbconvert_exporter": "python",
   "pygments_lexer": "ipython3",
   "version": "3.11.9"
  }
 },
 "nbformat": 4,
 "nbformat_minor": 5
}
