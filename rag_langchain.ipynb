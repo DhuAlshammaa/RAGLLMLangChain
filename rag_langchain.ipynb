{
 "cells": [
  {
   "cell_type": "code",
   "execution_count": 193,
   "id": "c08f6db2",
   "metadata": {},
   "outputs": [
    {
     "data": {
      "text/plain": [
       "True"
      ]
     },
     "execution_count": 193,
     "metadata": {},
     "output_type": "execute_result"
    }
   ],
   "source": [
    "import os\n",
    "import dotenv\n",
    "from pathlib import Path\n",
    "\n",
    "# LangChain and related imports\n",
    "from langchain_core.messages import AIMessage, HumanMessage\n",
    "from langchain_community.document_loaders import (\n",
    "    TextLoader,\n",
    "    WebBaseLoader,\n",
    "    PyPDFLoader,\n",
    "    Docx2txtLoader,\n",
    ")\n",
    "from langchain_community.vectorstores import Chroma\n",
    "from langchain.text_splitter import RecursiveCharacterTextSplitter\n",
    "from langchain_openai import OpenAIEmbeddings, ChatOpenAI\n",
    "from langchain_anthropic import ChatAnthropic\n",
    "from langchain_core.prompts import ChatPromptTemplate, MessagesPlaceholder\n",
    "from langchain.chains import create_history_aware_retriever, create_retrieval_chain\n",
    "from langchain.chains.combine_documents import create_stuff_documents_chain\n",
    "\n",
    "# Load environment variables\n",
    "from dotenv import load_dotenv\n",
    "load_dotenv()\n",
    "\n"
   ]
  },
  {
   "cell_type": "code",
   "execution_count": 194,
   "id": "95e418f2",
   "metadata": {},
   "outputs": [
    {
     "name": "stdout",
     "output_type": "stream",
     "text": [
      "Error loading the document docs/DhuAlshammaaResume.pdf: File path docs\\DhuAlshammaaResume.pdf is not a valid file or url\n",
      "Error loading the document docs/DhuAlshammaaResume.pdf: File path docs\\DhuAlshammaaResume.pdf is not a valid file or url\n",
      "Total documents loaded: 7\n"
     ]
    }
   ],
   "source": [
    "doc_path = [\n",
    "    \"docs/test_rag.pdf\",\n",
    "    \"docs/test_rag.docx\",\n",
    "    \"docs/DhuAlshammaaResume.pdf\"\n",
    "]\n",
    "\n",
    "docs =[]\n",
    "for doc_file in doc_path: \n",
    "    file_path = Path(doc_file)\n",
    "    try: \n",
    "        if doc_file.endswith(\".pdf\"):\n",
    "            loader = PyPDFLoader(file_path)\n",
    "        elif doc_file.endswith(\".docx\"):\n",
    "            loader = Docx2txtLoader(file_path)\n",
    "        elif doc_file.endswith(\".txt\") or doc_file.endswith(\".md\"):\n",
    "            loader = TextLoader(file_path)\n",
    "        else:\n",
    "            print(f\"Documents type {file_path.type} not supported.\")\n",
    "            continue\n",
    "        # Make the Docs in one object has all the Docs\n",
    "        docs.extend(loader.load())\n",
    "    except Exception as e : \n",
    "        print(f\"Error loading the document {doc_file}: {e}\")\n",
    "    \n",
    "  #  finally:\n",
    "      #  os.remove(file_path)\n",
    "\n",
    "    #Load webs URLs\n",
    "\n",
    "web_urls = [\n",
    "    \"https://docs.streamlit.io/develop/quick-reference/release-notes\",\n",
    "    \"https://docs.langchain.com/docs/\",\n",
    "    \"https://openai.com/blog/chatgpt\",\n",
    "    \"https://www.python.org/about/\",\n",
    "    \"https://huggingface.co/docs\",\n",
    "]\n",
    "\n",
    "# Container for all loaded documents\n",
    "docs = []\n",
    "\n",
    "# Load local files\n",
    "for doc_file in doc_path: \n",
    "    file_path = Path(doc_file)\n",
    "    try: \n",
    "        if doc_file.endswith(\".pdf\"):\n",
    "            loader = PyPDFLoader(file_path)\n",
    "        elif doc_file.endswith(\".docx\"):\n",
    "            loader = Docx2txtLoader(file_path)\n",
    "        elif doc_file.endswith(\".txt\") or doc_file.endswith(\".md\"):\n",
    "            loader = TextLoader(file_path)\n",
    "        else:\n",
    "            print(f\"Document type {file_path.suffix} not supported.\")\n",
    "            continue\n",
    "        docs.extend(loader.load())\n",
    "    except Exception as e:\n",
    "        print(f\"Error loading the document {doc_file}: {e}\")\n",
    "\n",
    "# Load URLs\n",
    "for url in web_urls:\n",
    "    try:\n",
    "        loader = WebBaseLoader(url)\n",
    "        docs.extend(loader.load())\n",
    "    except Exception as e:\n",
    "        print(f\"Error loading document from {url}: {e}\")\n",
    "\n",
    "# Optional: view result\n",
    "print(f\"Total documents loaded: {len(docs)}\")\n"
   ]
  },
  {
   "cell_type": "code",
   "execution_count": 195,
   "id": "645f0c16",
   "metadata": {},
   "outputs": [
    {
     "data": {
      "text/plain": [
       "[Document(metadata={'producer': 'Microsoft® Word for Microsoft 365', 'creator': 'Microsoft® Word for Microsoft 365', 'creationdate': '2025-07-20T21:27:11-07:00', 'author': 'Dhu Shammaa', 'moddate': '2025-07-20T21:27:11-07:00', 'source': 'docs\\\\test_rag.pdf', 'total_pages': 1, 'page': 0, 'page_label': '1'}, page_content='My favorite food os margarita pizza \\nThere are 47588 bottles in the truck..'),\n",
       " Document(metadata={'source': 'docs\\\\test_rag.docx'}, page_content='My favorite food os margarita pizza\\n\\nThere are 47588 bottles in the truck..'),\n",
       " Document(metadata={'source': 'https://docs.streamlit.io/develop/quick-reference/release-notes', 'title': 'Release notes - Streamlit Docs', 'description': 'A changelog of highlights and fixes for each version of Streamlit.', 'language': 'No language found.'}, page_content='Release notes - Streamlit DocsDocumentationsearchSearchrocket_launchGet startedInstallationaddFundamentalsaddFirst stepsaddcodeDevelopConceptsaddAPI referenceaddTutorialsaddQuick referenceremoveCheat sheetRelease notesremove2025202420232022202120202019Pre-release featuresRoadmapopen_in_newweb_assetDeployConceptsaddStreamlit Community CloudaddSnowflakeOther platformsaddschoolKnowledge baseFAQInstalling dependenciesDeployment issuesHome/Develop/Quick reference/Release notesRelease notes\\nThis page lists highlights, bug fixes, and known issues for the latest release of Streamlit. If you\\'re looking for information about nightly releases or experimental features, see Pre-release features.\\nUpgrade Streamlit\\nstarTipTo upgrade to the latest version of Streamlit, run:pip install --upgrade streamlit\\n\\nVersion 1.47.0 (latest)\\nRelease date: July 16, 2025\\nHighlights\\n\\n🎨\\xa0Streamlit has additional theming configuration options!\\n\\ntheme.baseFontWeight: Set the root font weight of text in the app.\\ntheme.chartCategoricalColors: Configure default categorical colors for Plotly, Altair, and Vega-Lite charts.\\ntheme.chartSequentialColors: Configure default sequential colors for Plotly, Altair, and Vega-Lite charts.\\ntheme.codeFontWeight: Set the font weight of code text.\\ntheme.dataframeHeaderBackgroundColor: Set the background color of dataframe headers.\\ntheme.headingFontSizes: Set the font sizes of headings.\\ntheme.headingFontWeights: Set the font weights of headings.\\ntheme.linkUnderline: Configure whether to underline links.\\n\\n\\n\\nNotable Changes\\n\\n💬\\xa0You can set the unsubmitted value of st.chat_input through Session State (#10175, #7166).\\n↔️\\xa0You can set a width parameter for st.html, st.feedback, st.pills, st.segmented_control, and st.multiselect.\\n↕️\\xa0You can set a height parameter for st.metric and st.text_area.\\n👩\\u200d💻\\xa0st.code and st.form can have height=\"stretch\".\\n🧑\\u200d💻\\xa0st.code can have width=\"content\".\\n⏱️\\xa0You can show the elapsed time with the spinner for cached functions using the show_time parameter (#11469, #10647). Thanks, Darkace01!\\nserver.showEmailPrompt lets you configure whether to show the email prompt (for locally running apps).\\n💾\\xa0NumberColumn and ProgressColumn support \"bytes\" as a predefined format (#11288, #11287). Thanks, cgivre!\\n⚙️\\xa0Column configuration accepts pixel widths for columns (#11838).\\nℹ️\\xa0The display_text parameter of LinkColumn accepts a Material icon (#11690, #7004).\\n🖊️\\xa0The title parameter of st.dialog accepts Markdown (#11763, #11755).\\n🧩\\xa0To support proxying requests for custom components, in declare_component, you can set both url and path (#11698).\\n\\nOther Changes\\n\\n🧭\\xa0Section labels in the sidebar navigation widget are collapsible (#11863).\\n📂\\xa0The \"Deploy\" button is hidden when the \"File change\" notification is visible in the app chrome (#11834).\\n🔝\\xa0When using top navigation in an app, the header has more padding (#11836).\\n🪜\\xa0In NumberColumn, the precision from step will override the display precision from format, unless format is a printf string (#11835).\\n📅\\xa0When st.date_input accepts a date range, the widget displays a quick-select option below the calendar for common date ranges (#10166, #11108).\\n🏋️\\xa0Dataframes support font weight defined in pandas Styler objects (#11705, #6461).\\n🫥\\xa0The about dialog does not show by default in the app menu. The current Streamlit version is displayed in the settings dialog (#10091).\\n💅\\xa0st.metric uses a background color for the delta value, like st.badge (#11678).\\n💻\\xa0IDEs can give type hints for .clear() on cached functions (#11793, #11821). Thanks, whitphx!\\n🔄\\xa0Bug swap: To prevent a multipage app regression, st.context.theme does not automatically rerun the app on first load. In some cases, st.context.theme may not be correct until the first rerun (#11870, #11797).\\n🧹\\xa0Bug fix: st.chat_input displays correctly at the bottom of the screen in mobile view (#11896, #11722, #11891).\\n⏳\\xa0Bug fix: When a WebSocket reconnects, the app will fully rerun to prevent missing fragments (#11890, #11660).\\n🪱\\xa0Bug fix: To reduce No such file or directory errors, the file watcher has more robust exception handling and clearer logging (#11871, #11841, #11809, #11728).\\n💩\\xa0Bug fix: Vega-Lite facet charts do not flicker (#11833).\\n☠️\\xa0Bug fix: When the initial sidebar state is set to \"collapsed\", the sidebar correctly loads in a collapsed state without flickering open (#11861, #11848).\\n👽\\xa0Bug fix: To prevent apps from being out of sync with their current code at a later time, Streamlit clears the script cache when all file watchers disconnect (#11876, #11739). Thanks, diwu-sf!\\n👻\\xa0Bug fix: Inline code in tooltips has the same relative size as inline code in other Markdown text (#11877).\\n🦀\\xa0Bug fix: st.multiselect and st.selectbox display the correct placeholder text when accept_new_options=True (#11623, #11609).\\n🦋\\xa0Bug fix: The column visibility menu can be closed by toggling the toolbar icon (#11857, #11801).\\n🦎\\xa0Bug fix: Progress bar columns in dataframes have the correct padding between the bar and its label (#11685).\\n🐌\\xa0Bug fix: The warning indicator in a dataframe cell adapts to theme configuration (#11682).\\n🕸️\\xa0Bug fix: To fix multiple visual and UX bugs in dataframe, glide-data-grid was updated (#11677, #8310, #9498, #9471).\\n🦗\\xa0Bug fix: In the sidebar navigation widget, font spacing and weight were adjust for visual clarity (#11814).\\n🦂\\xa0Bug fix: Altair charts correctly resize in width to match their container (#11807, #11802).\\n🦟\\xa0Bug fix: The running-man icon matches the theme configuration (#11461, #11371). Thanks, TreavVasu!\\n🦠\\xa0Bug fix: The top header background is correctly opaque when it contains elements (#11787, #11785).\\n🪰\\xa0Bug fix: Extra top padding is removed when printing (#11798).\\n🪳\\xa0Bug fix: Markdown inline code displays correctly when unsafe_allow_html=True (#11817, #11800). Thanks, bajajku!\\n🕷️\\xa0Bug fix: The WebSocket ping interval does not exceed the timeout interval (#11693, #11670).\\n🐞\\xa0Bug fix: The sidebar state initialized correctly on Community Cloud and page content slides and resizes correctly in response to the sidebar (#11732, #11702, #11710).\\n🐝\\xa0Bug fix: The timer in st.spinner uses system time to prevent pausing when the user focuses on another browser tab (#11756, #11720).\\n🐜\\xa0Bug fix: Empty containers with borders and empty expanders are visible before elements are added to them (#11669).\\n🪲\\xa0Bug fix: st.audio_input and st.camera_input have consistent appearances (#11699, #11700).\\n🐛\\xa0Bug fix: To prevent a race condition, the file watcher correctly applies a lock to watched paths (#11692, #11691).\\n\\nOlder versions of Streamlit\\n\\n2025 release notes\\n2024 release notes\\n2023 release notes\\n2022 release notes\\n2021 release notes\\n2020 release notes\\n2019 release notes\\nPrevious: Cheat sheetNext: 2025forumStill have questions?Our forums are full of helpful information and Streamlit experts.HomeContact UsCommunity© 2025 Snowflake Inc.Cookie policyforum Ask AI'),\n",
       " Document(metadata={'source': 'https://docs.langchain.com/docs/', 'title': 'LangChain Labs - Docs by LangChain', 'description': 'LangChain Labs is a collection of agents and experimental AI products.', 'language': 'en'}, page_content='LangChain Labs - Docs by LangChainDocs by LangChain home pageSearch...⌘KLangChain LabsExperimental AI products from LangChainList of productsForumDocs by LangChain home pageSearch...⌘KAsk AIForumSearch...NavigationLangChain LabsOverviewOpen SWEOverviewOpen SWELangChain LabsCopy pageLangChain Labs is a collection of agents and experimental AI products.\\u200bAgents\\nOpen Agent PlatformOpen Agent Platform is a citizen developer platform, allowing non-technical users to build, prototype, and use agents.Learn moreOpen SWEOpen SWE is an open source cloud based coding agent.Learn morePowered by MintlifyOn this pageAgentsAssistantResponses are generated using AI and may contain mistakes.'),\n",
       " Document(metadata={'source': 'https://openai.com/blog/chatgpt', 'language': 'No language found.'}, page_content='\\n\\n\\n\\n\\n\\n\\n\\n\\n\\n\\n\\nEnable JavaScript and cookies to continue\\n\\n\\n\\n'),\n",
       " Document(metadata={'source': 'https://www.python.org/about/', 'title': 'About Python™ | Python.org', 'description': 'The official home of the Python Programming Language', 'language': 'en'}, page_content=\"\\n\\n\\n\\n \\n\\n\\n\\n\\n\\n\\n\\n\\n\\n\\n\\n\\n\\n\\n\\n\\n\\n\\n\\n\\n\\n\\n\\n\\n\\n\\n\\n\\n\\n\\n\\n\\nAbout Python™ | Python.org\\n\\n\\n\\n\\n\\n\\n\\n\\n\\n\\n\\n\\n\\n\\n\\n\\n\\n\\n\\n\\n\\nNotice: While JavaScript is not essential for this website, your interaction with the content will be limited. Please turn JavaScript on for the full experience. \\n\\n\\n\\n\\n\\n\\nSkip to content\\n\\n\\n▼ Close\\n                \\n\\n\\nPython\\n\\n\\nPSF\\n\\n\\nDocs\\n\\n\\nPyPI\\n\\n\\nJobs\\n\\n\\nCommunity\\n\\n\\n\\n▲ The Python Network\\n                \\n\\n\\n\\n\\n\\n\\n\\n\\n\\nDonate\\n\\n≡ Menu\\n\\n\\nSearch This Site\\n\\n\\n                                    GO\\n                                \\n\\n\\n\\n\\n\\nA A\\n\\nSmaller\\nLarger\\nReset\\n\\n\\n\\n\\n\\n\\nSocialize\\n\\nLinkedIn\\nMastodon\\nChat on IRC\\nTwitter\\n\\n\\n\\n\\n\\n\\n\\n\\n\\n\\nAbout\\n\\nApplications\\nQuotes\\nGetting Started\\nHelp\\nPython Brochure\\n\\n\\n\\nDownloads\\n\\nAll releases\\nSource code\\nWindows\\nmacOS\\nOther Platforms\\nLicense\\nAlternative Implementations\\n\\n\\n\\nDocumentation\\n\\nDocs\\nAudio/Visual Talks\\nBeginner's Guide\\nDeveloper's Guide\\nFAQ\\nNon-English Docs\\nPEP Index\\nPython Books\\nPython Essays\\n\\n\\n\\nCommunity\\n\\nDiversity\\nMailing Lists\\nIRC\\nForums\\nPSF Annual Impact Report\\nPython Conferences\\nSpecial Interest Groups\\nPython Logo\\nPython Wiki\\nCode of Conduct\\nCommunity Awards\\nGet Involved\\nShared Stories\\n\\n\\n\\nSuccess Stories\\n\\nArts\\nBusiness\\nEducation\\nEngineering\\nGovernment\\nScientific\\nSoftware Development\\n\\n\\n\\nNews\\n\\nPython News\\nPSF Newsletter\\nPSF News\\nPyCon US News\\nNews from the Community\\n\\n\\n\\nEvents\\n\\nPython Events\\nUser Group Events\\nPython Events Archive\\nUser Group Events Archive\\nSubmit an Event\\n\\n\\n\\n\\n \\n\\n\\r\\n    Python is powerful... and fast; \\r\\n    plays well with others; \\r\\n    runs everywhere; \\r\\n    is friendly & easy to learn; \\r\\n    is Open.\\r\\n\\nThese are some of the reasons people who use Python would rather not use anything else.\\n\\n\\n\\n\\n\\n\\n\\n\\n\\n\\nGetting Started\\nPython can be easy to pick up whether you're a first time programmer or you're experienced with other languages. The following pages are a useful first step to get on your way writing programs with Python!\\n\\nBeginner's Guide, Programmers\\nBeginner's Guide, Non-Programmers\\nBeginner's Guide, Download & Installation\\nCode sample and snippets for Beginners\\n\\n\\n\\nFriendly & Easy to Learn\\nThe community hosts conferences and meetups, collaborates on code, and much more. Python's documentation will help you along the way, and the mailing lists will keep you in touch.\\n\\nConferences and Workshops\\nPython Documentation\\nMailing Lists and IRC channels\\n\\n\\n\\n\\n\\nApplications\\nThe Python Package Index (PyPI) hosts thousands of third-party modules for Python. Both Python's standard library and the community-contributed modules allow for endless possibilities.\\n\\nWeb and Internet Development\\nDatabase Access\\nDesktop GUIs\\nScientific & Numeric\\nEducation\\nNetwork Programming\\nSoftware & Game Development\\n\\n\\n\\nOpen-source\\nPython is developed under an OSI-approved open source license, making it freely usable and distributable, even for commercial use. Python's license is administered by the Python Software Foundation.\\n\\nLearn more about the license\\nPython license on OSI\\nLearn more about the Foundation\\n\\n\\n\\n\\nCan’t find what you’re looking for? Try our comprehensive Help section\\n\\n\\n\\n\\nLatest News\\nMore\\n\\n\\n2025-07-24\\nPSF Board Election Nominations Opening July 29th\\n\\n2025-07-22\\nPython 3.14 release candidate 1 is go!\\n\\n2025-07-16\\nAffirm Your PSF Membership Voting Status\\n\\n2025-07-09\\nPSF News: PyPI Orgs, Board Election, & Yearly Reports\\n\\n2025-07-08\\nNotice of Python Software Foundation Bylaws Change - Effective July 23, 2025\\n\\n\\n\\n\\n\\nUpcoming Events\\nMore\\n\\n\\n2025-08-08\\nBuea - Creating Python Communities and outreach\\n\\n2025-08-11\\nDjangoCon Africa 2025\\n\\n2025-08-13\\nPyCon Somalia 2025\\n\\n2025-08-15\\nPyCon Korea 2025\\n\\n2025-08-18\\nEuroSciPy 2025\\n\\n\\n\\n\\n\\n\\n\\n>>> Python Software Foundation\\n\\nThe mission of the Python Software Foundation is to promote, protect, and advance the Python programming language, and to support and facilitate the growth of a diverse and international community of Python programmers. Learn more \\n\\nBecome a Member\\nDonate to the PSF\\n\\n\\n\\n\\n\\n\\n\\n\\n\\n▲ Back to Top\\n\\n\\nAbout\\n\\nApplications\\nQuotes\\nGetting Started\\nHelp\\nPython Brochure\\n\\n\\n\\nDownloads\\n\\nAll releases\\nSource code\\nWindows\\nmacOS\\nOther Platforms\\nLicense\\nAlternative Implementations\\n\\n\\n\\nDocumentation\\n\\nDocs\\nAudio/Visual Talks\\nBeginner's Guide\\nDeveloper's Guide\\nFAQ\\nNon-English Docs\\nPEP Index\\nPython Books\\nPython Essays\\n\\n\\n\\nCommunity\\n\\nDiversity\\nMailing Lists\\nIRC\\nForums\\nPSF Annual Impact Report\\nPython Conferences\\nSpecial Interest Groups\\nPython Logo\\nPython Wiki\\nCode of Conduct\\nCommunity Awards\\nGet Involved\\nShared Stories\\n\\n\\n\\nSuccess Stories\\n\\nArts\\nBusiness\\nEducation\\nEngineering\\nGovernment\\nScientific\\nSoftware Development\\n\\n\\n\\nNews\\n\\nPython News\\nPSF Newsletter\\nPSF News\\nPyCon US News\\nNews from the Community\\n\\n\\n\\nEvents\\n\\nPython Events\\nUser Group Events\\nPython Events Archive\\nUser Group Events Archive\\nSubmit an Event\\n\\n\\n\\nContributing\\n\\nDeveloper's Guide\\nIssue Tracker\\npython-dev list\\nCore Mentorship\\nReport a Security Issue\\n\\n\\n\\n▲ Back to Top\\n\\n \\n\\n\\n\\nHelp & General Contact\\nDiversity Initiatives\\nSubmit Website Bug\\n\\nStatus \\n\\n\\n\\n\\nCopyright ©2001-2025.\\n                            \\xa0Python Software Foundation\\n                            \\xa0Legal Statements\\n                            \\xa0Privacy Notice\\n\\n\\n\\n\\n\\n\\n\\n\\n\\n\\n\\n\\n\\n\\n\\n\\n\\n\\n\"),\n",
       " Document(metadata={'source': 'https://huggingface.co/docs', 'title': 'Hugging Face - Documentation', 'description': 'We’re on a journey to advance and democratize artificial intelligence through open source and open science.', 'language': 'No language found.'}, page_content='\\n\\n\\n\\n\\n\\n\\n\\n\\n\\n\\n\\n\\n\\n\\n\\n\\n\\n\\n\\n\\n\\n\\n \\nHugging Face - Documentation\\n\\n\\n\\n\\n\\n\\n\\n\\nHugging Face\\n\\n\\n\\n\\n\\n\\n\\n\\t\\t\\t\\t\\t\\tModels\\n\\n\\t\\t\\t\\t\\t\\tDatasets\\n\\n\\t\\t\\t\\t\\t\\tSpaces\\n\\n\\n\\n\\t\\t\\tCommunity\\n\\t\\t\\n\\n\\n\\t\\t\\t\\t\\t\\tDocs\\n\\n\\t\\t\\t\\t\\t\\tEnterprise\\n\\nPricing\\n\\t\\t\\t\\n\\n\\n\\n\\n\\n\\nLog In\\n\\t\\t\\t\\t\\nSign Up\\n\\t\\t\\t\\t\\t\\n\\n\\n\\t\\t\\tDocumentation\\n\\t\\t\\n\\n\\n\\n\\nHub & Client Libraries\\n\\n\\n\\nHub\\nHost Git-based models, datasets, and Spaces on the HF Hub\\n\\n\\nHub Python Library\\nPython client to interact with the Hugging Face Hub\\n\\n\\nHuggingface.js\\nJavaScript libraries for Hugging Face with built-in TS types\\n\\n\\nTasks\\nExplore demos, models, and datasets for any ML tasks\\n\\n\\nDataset viewer\\nAPI for metadata, stats, and content of HF Hub datasets\\n\\nDeployment & Inference\\n\\n\\n\\nInference Providers\\nCall 200k+ models hosted by our 10+ Inference partners\\n\\n\\nInference Endpoints (dedicated)\\nDeploy models on dedicated & fully managed infrastructure on HF\\n\\n\\nDeploying on AWS\\nTrain/deploy models from Hugging Face to AWS with DLCs\\n\\n\\nText Generation Inference\\nServe language models with TGI optimized toolkit\\n\\n\\nText Embeddings Inference\\nServe embeddings models with TEI optimized toolkit\\n\\n\\nMicrosoft Azure\\nDeploy Hugging Face models on Microsoft Azure\\n\\nCore ML Libraries\\n\\n\\n\\nTransformers\\nState-of-the-art ML for PyTorch, TensorFlow, JAX\\n\\n\\nDiffusers\\nState-of-the-art Diffusion models in PyTorch\\n\\n\\nDatasets\\nAccess & share datasets for any ML tasks\\n\\n\\nTransformers.js\\nState-of-the-art ML running directly in your browser\\n\\n\\nTokenizers\\nFast tokenizers optimized for research & production\\n\\n\\nEvaluate\\nEvaluate and compare models performance\\n\\n\\ntimm\\nState-of-the-art vision models: layers, optimizers, and utilities\\n\\n\\nSentence Transformers\\nEmbeddings, Retrieval, and Reranking\\n\\nTraining & Optimization\\n\\n\\n\\nPEFT\\nParameter-efficient finetuning for large language models\\n\\n\\nAccelerate\\nTrain PyTorch models with multi-GPU, TPU, mixed precision\\n\\n\\nOptimum\\nOptimize HF Transformers for faster training/inference\\n\\n\\nAWS Trainium & Inferentia\\nTrain/deploy Transformers/Diffusers on AWS\\n\\n\\nTRL\\nTrain transformers LMs with reinforcement learning\\n\\n\\nSafetensors\\nSafe way to store/distribute neural network weights\\n\\n\\nBitsandbytes\\nOptimize and quantize models with bitsandbytes\\n\\n\\nLighteval\\nAll-in-one toolkit to evaluate LLMs across multiple backends\\n\\nCollaboration & Extras\\n\\n\\n\\nGradio\\nBuild ML demos and web apps with a few lines of Python\\n\\n\\nsmolagents\\nSmol library to build great agents in Python\\n\\n\\nLeRobot\\nMaking AI for Robotics more accessible with end-to-end learning\\n\\n\\nAutoTrain\\nAutoTrain API and UI for seamless model training\\n\\n\\nChat UI\\nOpen source chat frontend powering HuggingChat\\n\\n\\nLeaderboards\\nCreate custom Leaderboards on Hugging Face\\n\\n\\nArgilla\\nCollaboration tool for building high-quality datasets\\n\\n\\nDistilabel\\nFramework for synthetic data generation and AI feedback\\n\\n\\nCommunity\\n\\n\\t\\t\\t\\t\\tBlog\\n\\t\\t\\t\\t\\n\\n\\t\\t\\t\\t\\tLearn\\n\\t\\t\\t\\t\\n\\n\\t\\t\\t\\t\\tDiscord\\n\\t\\t\\t\\t\\n\\n\\t\\t\\t\\t\\tForum\\n\\t\\t\\t\\t\\n\\n\\t\\t\\t\\t\\tGithub\\n\\t\\t\\t\\t\\n\\n\\n\\n\\n\\t\\t\\tSystem theme\\n\\t\\t\\n\\nCompany\\nTOS\\nPrivacy\\nAbout\\nJobs\\n\\nWebsite\\nModels\\nDatasets\\nSpaces\\nPricing\\nDocs\\n\\n\\n\\n\\n\\n')]"
      ]
     },
     "execution_count": 195,
     "metadata": {},
     "output_type": "execute_result"
    }
   ],
   "source": [
    "docs"
   ]
  },
  {
   "cell_type": "code",
   "execution_count": 196,
   "id": "cc48b715",
   "metadata": {},
   "outputs": [],
   "source": [
    "# Split the files to chunks \n",
    "#The recursive splitter will try to chunk it at:\n",
    "# The recursive splitter will try to chunk it at:\n",
    "# Paragraph breaks first\n",
    "# Then sentence boundaries\n",
    "# Then newlines\n",
    "# Then spaces\n",
    "# Then finally by character count if necessary\n",
    "\n",
    "\n",
    "\n",
    "text_splitter = RecursiveCharacterTextSplitter(\n",
    "    chunk_size=5000,\n",
    "    chunk_overlap=1000,\n",
    ")\n",
    "documents_chunks = text_splitter.split_documents(docs)"
   ]
  },
  {
   "cell_type": "code",
   "execution_count": 197,
   "id": "002aea3d",
   "metadata": {},
   "outputs": [],
   "source": [
    "#  Tokenization vs. Embedding — Explained\n",
    "# 🟦 Tokenization\n",
    "# What it is: Splitting text into smaller units called tokens (e.g., words, subwords, or even characters).\n",
    "\n",
    "# Why it’s used: Language models like GPT or BERT don't read raw text — they process tokens.\n",
    "\n",
    "# Example:\n",
    "\n",
    "# text\n",
    "# Copy\n",
    "# Edit\n",
    "# Input: \"I love pizza\"\n",
    "# Tokens: [\"I\", \" love\", \" pizza\"]\n",
    "# ✅ Tokenization is like turning sentences into ID numbers the model can understand.\n",
    "\n",
    "# 🟩 Embedding\n",
    "# What it is: Mapping each token (or whole sentence) to a vector of numbers that captures its meaning.\n",
    "\n",
    "# Why it’s used: Embeddings let models compare meanings, search for similarity, and reason.\n",
    "\n",
    "# Types:\n",
    "\n",
    "# Word embeddings (like Word2Vec, GloVe)\n",
    "\n",
    "# Sentence/document embeddings (like OpenAI’s text-embedding-3-small)\n",
    "\n",
    "# Example:\n",
    "\n",
    "# text\n",
    "# Copy\n",
    "# Edit\n",
    "# Token: \"pizza\" → Embedding: [0.27, -0.41, 0.89, ...]\n",
    "# 🔄 Workflow Relationship\n",
    "# In a typical NLP pipeline:\n",
    "\n",
    "# scss\n",
    "# Copy\n",
    "# Edit\n",
    "# Text → Tokenization → Tokens → Embedding → Vector(s)\n",
    "# Tokenization: turns text into symbols (tokens)\n",
    "\n",
    "# Embedding: turns symbols into meaning (vectors)\n",
    "\n",
    "# 🧩 In LangChain or RAG:\n",
    "# Tokenization affects chunking and cost estimation (e.g., 4096 token limits).\n",
    "\n",
    "# Embedding is used for vector search and similarity (e.g., searching documents by meaning).\n",
    "\n",
    "# ✅ Summary Table:\n",
    "# Feature\tTokenization\tEmbedding\n",
    "# Purpose\tBreak text into tokens\tMap tokens/text into numeric vectors\n",
    "# Output\tList of tokens (strings or IDs)\tVectors (arrays of floats)\n",
    "# Used for\tInput to models\tSemantic similarity, search\n",
    "# Tools\ttiktoken, HuggingFace Tokenizers\tOpenAI Embedding API, SentenceTransformers\n"
   ]
  },
  {
   "cell_type": "code",
   "execution_count": 198,
   "id": "55fd3678",
   "metadata": {},
   "outputs": [],
   "source": [
    "#After we done with Split the documents to chunks \n",
    "# We will use tokenizer to trasfer this chunks to token \n",
    "# Token means we will still have the words but \n",
    "# We will trasfer the words to token \n",
    "# 1 toke can be one world more than one word and may be part of a word \n",
    "\n",
    "#  Rough Estimate (for English & GPT models)\n",
    "# 1 token ≈ 3 to 4 characters (letters)\n",
    "\n",
    "# 1 token ≈ 0.75 words\n",
    "\n",
    "# 100 tokens ≈ 75 words ≈ 300–400 characters\n",
    "\n",
    "\n",
    "\n",
    "vector_db = Chroma.from_documents (\n",
    "    documents = documents_chunks,\n",
    "    embedding = OpenAIEmbeddings(),\n",
    ")\n",
    "\n",
    "# 🟢 1. Chroma.from_documents(...)\n",
    "# This is a class method that:\n",
    "\n",
    "# Takes a list of documents (your split chunks)\n",
    "\n",
    "# Converts them into vector embeddings using the provided embedding model\n",
    "\n",
    "# Stores them in a ChromaDB instance (either in-memory or on disk)\n",
    "\n",
    "# This allows you to later search for similar documents using vector similarity (like cosine similarity)."
   ]
  },
  {
   "cell_type": "code",
   "execution_count": 199,
   "id": "d435d9c6",
   "metadata": {},
   "outputs": [
    {
     "data": {
      "text/plain": [
       "[Document(metadata={'producer': 'Microsoft® Word for Microsoft 365', 'creator': 'Microsoft® Word for Microsoft 365', 'creationdate': '2025-07-20T21:27:11-07:00', 'author': 'Dhu Shammaa', 'moddate': '2025-07-20T21:27:11-07:00', 'source': 'docs\\\\test_rag.pdf', 'total_pages': 1, 'page': 0, 'page_label': '1'}, page_content='My favorite food os margarita pizza \\nThere are 47588 bottles in the truck..'),\n",
       " Document(metadata={'source': 'docs\\\\test_rag.docx'}, page_content='My favorite food os margarita pizza\\n\\nThere are 47588 bottles in the truck..'),\n",
       " Document(metadata={'source': 'https://docs.streamlit.io/develop/quick-reference/release-notes', 'title': 'Release notes - Streamlit Docs', 'description': 'A changelog of highlights and fixes for each version of Streamlit.', 'language': 'No language found.'}, page_content='Release notes - Streamlit DocsDocumentationsearchSearchrocket_launchGet startedInstallationaddFundamentalsaddFirst stepsaddcodeDevelopConceptsaddAPI referenceaddTutorialsaddQuick referenceremoveCheat sheetRelease notesremove2025202420232022202120202019Pre-release featuresRoadmapopen_in_newweb_assetDeployConceptsaddStreamlit Community CloudaddSnowflakeOther platformsaddschoolKnowledge baseFAQInstalling dependenciesDeployment issuesHome/Develop/Quick reference/Release notesRelease notes\\nThis page lists highlights, bug fixes, and known issues for the latest release of Streamlit. If you\\'re looking for information about nightly releases or experimental features, see Pre-release features.\\nUpgrade Streamlit\\nstarTipTo upgrade to the latest version of Streamlit, run:pip install --upgrade streamlit\\n\\nVersion 1.47.0 (latest)\\nRelease date: July 16, 2025\\nHighlights\\n\\n🎨\\xa0Streamlit has additional theming configuration options!\\n\\ntheme.baseFontWeight: Set the root font weight of text in the app.\\ntheme.chartCategoricalColors: Configure default categorical colors for Plotly, Altair, and Vega-Lite charts.\\ntheme.chartSequentialColors: Configure default sequential colors for Plotly, Altair, and Vega-Lite charts.\\ntheme.codeFontWeight: Set the font weight of code text.\\ntheme.dataframeHeaderBackgroundColor: Set the background color of dataframe headers.\\ntheme.headingFontSizes: Set the font sizes of headings.\\ntheme.headingFontWeights: Set the font weights of headings.\\ntheme.linkUnderline: Configure whether to underline links.\\n\\n\\n\\nNotable Changes\\n\\n💬\\xa0You can set the unsubmitted value of st.chat_input through Session State (#10175, #7166).\\n↔️\\xa0You can set a width parameter for st.html, st.feedback, st.pills, st.segmented_control, and st.multiselect.\\n↕️\\xa0You can set a height parameter for st.metric and st.text_area.\\n👩\\u200d💻\\xa0st.code and st.form can have height=\"stretch\".\\n🧑\\u200d💻\\xa0st.code can have width=\"content\".\\n⏱️\\xa0You can show the elapsed time with the spinner for cached functions using the show_time parameter (#11469, #10647). Thanks, Darkace01!\\nserver.showEmailPrompt lets you configure whether to show the email prompt (for locally running apps).\\n💾\\xa0NumberColumn and ProgressColumn support \"bytes\" as a predefined format (#11288, #11287). Thanks, cgivre!\\n⚙️\\xa0Column configuration accepts pixel widths for columns (#11838).\\nℹ️\\xa0The display_text parameter of LinkColumn accepts a Material icon (#11690, #7004).\\n🖊️\\xa0The title parameter of st.dialog accepts Markdown (#11763, #11755).\\n🧩\\xa0To support proxying requests for custom components, in declare_component, you can set both url and path (#11698).\\n\\nOther Changes'),\n",
       " Document(metadata={'source': 'https://docs.streamlit.io/develop/quick-reference/release-notes', 'title': 'Release notes - Streamlit Docs', 'description': 'A changelog of highlights and fixes for each version of Streamlit.', 'language': 'No language found.'}, page_content='Other Changes\\n\\n🧭\\xa0Section labels in the sidebar navigation widget are collapsible (#11863).\\n📂\\xa0The \"Deploy\" button is hidden when the \"File change\" notification is visible in the app chrome (#11834).\\n🔝\\xa0When using top navigation in an app, the header has more padding (#11836).\\n🪜\\xa0In NumberColumn, the precision from step will override the display precision from format, unless format is a printf string (#11835).\\n📅\\xa0When st.date_input accepts a date range, the widget displays a quick-select option below the calendar for common date ranges (#10166, #11108).\\n🏋️\\xa0Dataframes support font weight defined in pandas Styler objects (#11705, #6461).\\n🫥\\xa0The about dialog does not show by default in the app menu. The current Streamlit version is displayed in the settings dialog (#10091).\\n💅\\xa0st.metric uses a background color for the delta value, like st.badge (#11678).\\n💻\\xa0IDEs can give type hints for .clear() on cached functions (#11793, #11821). Thanks, whitphx!\\n🔄\\xa0Bug swap: To prevent a multipage app regression, st.context.theme does not automatically rerun the app on first load. In some cases, st.context.theme may not be correct until the first rerun (#11870, #11797).\\n🧹\\xa0Bug fix: st.chat_input displays correctly at the bottom of the screen in mobile view (#11896, #11722, #11891).\\n⏳\\xa0Bug fix: When a WebSocket reconnects, the app will fully rerun to prevent missing fragments (#11890, #11660).\\n🪱\\xa0Bug fix: To reduce No such file or directory errors, the file watcher has more robust exception handling and clearer logging (#11871, #11841, #11809, #11728).\\n💩\\xa0Bug fix: Vega-Lite facet charts do not flicker (#11833).\\n☠️\\xa0Bug fix: When the initial sidebar state is set to \"collapsed\", the sidebar correctly loads in a collapsed state without flickering open (#11861, #11848).\\n👽\\xa0Bug fix: To prevent apps from being out of sync with their current code at a later time, Streamlit clears the script cache when all file watchers disconnect (#11876, #11739). Thanks, diwu-sf!\\n👻\\xa0Bug fix: Inline code in tooltips has the same relative size as inline code in other Markdown text (#11877).\\n🦀\\xa0Bug fix: st.multiselect and st.selectbox display the correct placeholder text when accept_new_options=True (#11623, #11609).\\n🦋\\xa0Bug fix: The column visibility menu can be closed by toggling the toolbar icon (#11857, #11801).\\n🦎\\xa0Bug fix: Progress bar columns in dataframes have the correct padding between the bar and its label (#11685).\\n🐌\\xa0Bug fix: The warning indicator in a dataframe cell adapts to theme configuration (#11682).\\n🕸️\\xa0Bug fix: To fix multiple visual and UX bugs in dataframe, glide-data-grid was updated (#11677, #8310, #9498, #9471).\\n🦗\\xa0Bug fix: In the sidebar navigation widget, font spacing and weight were adjust for visual clarity (#11814).\\n🦂\\xa0Bug fix: Altair charts correctly resize in width to match their container (#11807, #11802).\\n🦟\\xa0Bug fix: The running-man icon matches the theme configuration (#11461, #11371). Thanks, TreavVasu!\\n🦠\\xa0Bug fix: The top header background is correctly opaque when it contains elements (#11787, #11785).\\n🪰\\xa0Bug fix: Extra top padding is removed when printing (#11798).\\n🪳\\xa0Bug fix: Markdown inline code displays correctly when unsafe_allow_html=True (#11817, #11800). Thanks, bajajku!\\n🕷️\\xa0Bug fix: The WebSocket ping interval does not exceed the timeout interval (#11693, #11670).\\n🐞\\xa0Bug fix: The sidebar state initialized correctly on Community Cloud and page content slides and resizes correctly in response to the sidebar (#11732, #11702, #11710).\\n🐝\\xa0Bug fix: The timer in st.spinner uses system time to prevent pausing when the user focuses on another browser tab (#11756, #11720).\\n🐜\\xa0Bug fix: Empty containers with borders and empty expanders are visible before elements are added to them (#11669).\\n🪲\\xa0Bug fix: st.audio_input and st.camera_input have consistent appearances (#11699, #11700).\\n🐛\\xa0Bug fix: To prevent a race condition, the file watcher correctly applies a lock to watched paths (#11692, #11691).\\n\\nOlder versions of Streamlit\\n\\n2025 release notes\\n2024 release notes\\n2023 release notes\\n2022 release notes\\n2021 release notes\\n2020 release notes\\n2019 release notes\\nPrevious: Cheat sheetNext: 2025forumStill have questions?Our forums are full of helpful information and Streamlit experts.HomeContact UsCommunity© 2025 Snowflake Inc.Cookie policyforum Ask AI'),\n",
       " Document(metadata={'source': 'https://docs.langchain.com/docs/', 'title': 'LangChain Labs - Docs by LangChain', 'description': 'LangChain Labs is a collection of agents and experimental AI products.', 'language': 'en'}, page_content='LangChain Labs - Docs by LangChainDocs by LangChain home pageSearch...⌘KLangChain LabsExperimental AI products from LangChainList of productsForumDocs by LangChain home pageSearch...⌘KAsk AIForumSearch...NavigationLangChain LabsOverviewOpen SWEOverviewOpen SWELangChain LabsCopy pageLangChain Labs is a collection of agents and experimental AI products.\\u200bAgents\\nOpen Agent PlatformOpen Agent Platform is a citizen developer platform, allowing non-technical users to build, prototype, and use agents.Learn moreOpen SWEOpen SWE is an open source cloud based coding agent.Learn morePowered by MintlifyOn this pageAgentsAssistantResponses are generated using AI and may contain mistakes.'),\n",
       " Document(metadata={'source': 'https://openai.com/blog/chatgpt', 'language': 'No language found.'}, page_content='Enable JavaScript and cookies to continue'),\n",
       " Document(metadata={'source': 'https://www.python.org/about/', 'title': 'About Python™ | Python.org', 'description': 'The official home of the Python Programming Language', 'language': 'en'}, page_content=\"About Python™ | Python.org\\n\\n\\n\\n\\n\\n\\n\\n\\n\\n\\n\\n\\n\\n\\n\\n\\n\\n\\n\\n\\n\\nNotice: While JavaScript is not essential for this website, your interaction with the content will be limited. Please turn JavaScript on for the full experience. \\n\\n\\n\\n\\n\\n\\nSkip to content\\n\\n\\n▼ Close\\n                \\n\\n\\nPython\\n\\n\\nPSF\\n\\n\\nDocs\\n\\n\\nPyPI\\n\\n\\nJobs\\n\\n\\nCommunity\\n\\n\\n\\n▲ The Python Network\\n                \\n\\n\\n\\n\\n\\n\\n\\n\\n\\nDonate\\n\\n≡ Menu\\n\\n\\nSearch This Site\\n\\n\\n                                    GO\\n                                \\n\\n\\n\\n\\n\\nA A\\n\\nSmaller\\nLarger\\nReset\\n\\n\\n\\n\\n\\n\\nSocialize\\n\\nLinkedIn\\nMastodon\\nChat on IRC\\nTwitter\\n\\n\\n\\n\\n\\n\\n\\n\\n\\n\\nAbout\\n\\nApplications\\nQuotes\\nGetting Started\\nHelp\\nPython Brochure\\n\\n\\n\\nDownloads\\n\\nAll releases\\nSource code\\nWindows\\nmacOS\\nOther Platforms\\nLicense\\nAlternative Implementations\\n\\n\\n\\nDocumentation\\n\\nDocs\\nAudio/Visual Talks\\nBeginner's Guide\\nDeveloper's Guide\\nFAQ\\nNon-English Docs\\nPEP Index\\nPython Books\\nPython Essays\\n\\n\\n\\nCommunity\\n\\nDiversity\\nMailing Lists\\nIRC\\nForums\\nPSF Annual Impact Report\\nPython Conferences\\nSpecial Interest Groups\\nPython Logo\\nPython Wiki\\nCode of Conduct\\nCommunity Awards\\nGet Involved\\nShared Stories\\n\\n\\n\\nSuccess Stories\\n\\nArts\\nBusiness\\nEducation\\nEngineering\\nGovernment\\nScientific\\nSoftware Development\\n\\n\\n\\nNews\\n\\nPython News\\nPSF Newsletter\\nPSF News\\nPyCon US News\\nNews from the Community\\n\\n\\n\\nEvents\\n\\nPython Events\\nUser Group Events\\nPython Events Archive\\nUser Group Events Archive\\nSubmit an Event\\n\\n\\n\\n\\n \\n\\n\\r\\n    Python is powerful... and fast; \\r\\n    plays well with others; \\r\\n    runs everywhere; \\r\\n    is friendly & easy to learn; \\r\\n    is Open.\\r\\n\\nThese are some of the reasons people who use Python would rather not use anything else.\\n\\n\\n\\n\\n\\n\\n\\n\\n\\n\\nGetting Started\\nPython can be easy to pick up whether you're a first time programmer or you're experienced with other languages. The following pages are a useful first step to get on your way writing programs with Python!\\n\\nBeginner's Guide, Programmers\\nBeginner's Guide, Non-Programmers\\nBeginner's Guide, Download & Installation\\nCode sample and snippets for Beginners\\n\\n\\n\\nFriendly & Easy to Learn\\nThe community hosts conferences and meetups, collaborates on code, and much more. Python's documentation will help you along the way, and the mailing lists will keep you in touch.\\n\\nConferences and Workshops\\nPython Documentation\\nMailing Lists and IRC channels\\n\\n\\n\\n\\n\\nApplications\\nThe Python Package Index (PyPI) hosts thousands of third-party modules for Python. Both Python's standard library and the community-contributed modules allow for endless possibilities.\\n\\nWeb and Internet Development\\nDatabase Access\\nDesktop GUIs\\nScientific & Numeric\\nEducation\\nNetwork Programming\\nSoftware & Game Development\\n\\n\\n\\nOpen-source\\nPython is developed under an OSI-approved open source license, making it freely usable and distributable, even for commercial use. Python's license is administered by the Python Software Foundation.\\n\\nLearn more about the license\\nPython license on OSI\\nLearn more about the Foundation\\n\\n\\n\\n\\nCan’t find what you’re looking for? Try our comprehensive Help section\\n\\n\\n\\n\\nLatest News\\nMore\\n\\n\\n2025-07-24\\nPSF Board Election Nominations Opening July 29th\\n\\n2025-07-22\\nPython 3.14 release candidate 1 is go!\\n\\n2025-07-16\\nAffirm Your PSF Membership Voting Status\\n\\n2025-07-09\\nPSF News: PyPI Orgs, Board Election, & Yearly Reports\\n\\n2025-07-08\\nNotice of Python Software Foundation Bylaws Change - Effective July 23, 2025\\n\\n\\n\\n\\n\\nUpcoming Events\\nMore\\n\\n\\n2025-08-08\\nBuea - Creating Python Communities and outreach\\n\\n2025-08-11\\nDjangoCon Africa 2025\\n\\n2025-08-13\\nPyCon Somalia 2025\\n\\n2025-08-15\\nPyCon Korea 2025\\n\\n2025-08-18\\nEuroSciPy 2025\\n\\n\\n\\n\\n\\n\\n\\n>>> Python Software Foundation\\n\\nThe mission of the Python Software Foundation is to promote, protect, and advance the Python programming language, and to support and facilitate the growth of a diverse and international community of Python programmers. Learn more \\n\\nBecome a Member\\nDonate to the PSF\\n\\n\\n\\n\\n\\n\\n\\n\\n\\n▲ Back to Top\\n\\n\\nAbout\\n\\nApplications\\nQuotes\\nGetting Started\\nHelp\\nPython Brochure\\n\\n\\n\\nDownloads\\n\\nAll releases\\nSource code\\nWindows\\nmacOS\\nOther Platforms\\nLicense\\nAlternative Implementations\\n\\n\\n\\nDocumentation\\n\\nDocs\\nAudio/Visual Talks\\nBeginner's Guide\\nDeveloper's Guide\\nFAQ\\nNon-English Docs\\nPEP Index\\nPython Books\\nPython Essays\\n\\n\\n\\nCommunity\\n\\nDiversity\\nMailing Lists\\nIRC\\nForums\\nPSF Annual Impact Report\\nPython Conferences\\nSpecial Interest Groups\\nPython Logo\\nPython Wiki\\nCode of Conduct\\nCommunity Awards\\nGet Involved\\nShared Stories\\n\\n\\n\\nSuccess Stories\\n\\nArts\\nBusiness\\nEducation\\nEngineering\\nGovernment\\nScientific\\nSoftware Development\\n\\n\\n\\nNews\\n\\nPython News\\nPSF Newsletter\\nPSF News\\nPyCon US News\\nNews from the Community\\n\\n\\n\\nEvents\\n\\nPython Events\\nUser Group Events\\nPython Events Archive\\nUser Group Events Archive\\nSubmit an Event\\n\\n\\n\\nContributing\\n\\nDeveloper's Guide\\nIssue Tracker\\npython-dev list\\nCore Mentorship\\nReport a Security Issue\\n\\n\\n\\n▲ Back to Top\\n\\n \\n\\n\\n\\nHelp & General Contact\\nDiversity Initiatives\\nSubmit Website Bug\\n\\nStatus\"),\n",
       " Document(metadata={'source': 'https://www.python.org/about/', 'title': 'About Python™ | Python.org', 'description': 'The official home of the Python Programming Language', 'language': 'en'}, page_content=\"About\\n\\nApplications\\nQuotes\\nGetting Started\\nHelp\\nPython Brochure\\n\\n\\n\\nDownloads\\n\\nAll releases\\nSource code\\nWindows\\nmacOS\\nOther Platforms\\nLicense\\nAlternative Implementations\\n\\n\\n\\nDocumentation\\n\\nDocs\\nAudio/Visual Talks\\nBeginner's Guide\\nDeveloper's Guide\\nFAQ\\nNon-English Docs\\nPEP Index\\nPython Books\\nPython Essays\\n\\n\\n\\nCommunity\\n\\nDiversity\\nMailing Lists\\nIRC\\nForums\\nPSF Annual Impact Report\\nPython Conferences\\nSpecial Interest Groups\\nPython Logo\\nPython Wiki\\nCode of Conduct\\nCommunity Awards\\nGet Involved\\nShared Stories\\n\\n\\n\\nSuccess Stories\\n\\nArts\\nBusiness\\nEducation\\nEngineering\\nGovernment\\nScientific\\nSoftware Development\\n\\n\\n\\nNews\\n\\nPython News\\nPSF Newsletter\\nPSF News\\nPyCon US News\\nNews from the Community\\n\\n\\n\\nEvents\\n\\nPython Events\\nUser Group Events\\nPython Events Archive\\nUser Group Events Archive\\nSubmit an Event\\n\\n\\n\\nContributing\\n\\nDeveloper's Guide\\nIssue Tracker\\npython-dev list\\nCore Mentorship\\nReport a Security Issue\\n\\n\\n\\n▲ Back to Top\\n\\n \\n\\n\\n\\nHelp & General Contact\\nDiversity Initiatives\\nSubmit Website Bug\\n\\nStatus \\n\\n\\n\\n\\nCopyright ©2001-2025.\\n                            \\xa0Python Software Foundation\\n                            \\xa0Legal Statements\\n                            \\xa0Privacy Notice\"),\n",
       " Document(metadata={'source': 'https://huggingface.co/docs', 'title': 'Hugging Face - Documentation', 'description': 'We’re on a journey to advance and democratize artificial intelligence through open source and open science.', 'language': 'No language found.'}, page_content='Hugging Face - Documentation\\n\\n\\n\\n\\n\\n\\n\\n\\nHugging Face\\n\\n\\n\\n\\n\\n\\n\\n\\t\\t\\t\\t\\t\\tModels\\n\\n\\t\\t\\t\\t\\t\\tDatasets\\n\\n\\t\\t\\t\\t\\t\\tSpaces\\n\\n\\n\\n\\t\\t\\tCommunity\\n\\t\\t\\n\\n\\n\\t\\t\\t\\t\\t\\tDocs\\n\\n\\t\\t\\t\\t\\t\\tEnterprise\\n\\nPricing\\n\\t\\t\\t\\n\\n\\n\\n\\n\\n\\nLog In\\n\\t\\t\\t\\t\\nSign Up\\n\\t\\t\\t\\t\\t\\n\\n\\n\\t\\t\\tDocumentation\\n\\t\\t\\n\\n\\n\\n\\nHub & Client Libraries\\n\\n\\n\\nHub\\nHost Git-based models, datasets, and Spaces on the HF Hub\\n\\n\\nHub Python Library\\nPython client to interact with the Hugging Face Hub\\n\\n\\nHuggingface.js\\nJavaScript libraries for Hugging Face with built-in TS types\\n\\n\\nTasks\\nExplore demos, models, and datasets for any ML tasks\\n\\n\\nDataset viewer\\nAPI for metadata, stats, and content of HF Hub datasets\\n\\nDeployment & Inference\\n\\n\\n\\nInference Providers\\nCall 200k+ models hosted by our 10+ Inference partners\\n\\n\\nInference Endpoints (dedicated)\\nDeploy models on dedicated & fully managed infrastructure on HF\\n\\n\\nDeploying on AWS\\nTrain/deploy models from Hugging Face to AWS with DLCs\\n\\n\\nText Generation Inference\\nServe language models with TGI optimized toolkit\\n\\n\\nText Embeddings Inference\\nServe embeddings models with TEI optimized toolkit\\n\\n\\nMicrosoft Azure\\nDeploy Hugging Face models on Microsoft Azure\\n\\nCore ML Libraries\\n\\n\\n\\nTransformers\\nState-of-the-art ML for PyTorch, TensorFlow, JAX\\n\\n\\nDiffusers\\nState-of-the-art Diffusion models in PyTorch\\n\\n\\nDatasets\\nAccess & share datasets for any ML tasks\\n\\n\\nTransformers.js\\nState-of-the-art ML running directly in your browser\\n\\n\\nTokenizers\\nFast tokenizers optimized for research & production\\n\\n\\nEvaluate\\nEvaluate and compare models performance\\n\\n\\ntimm\\nState-of-the-art vision models: layers, optimizers, and utilities\\n\\n\\nSentence Transformers\\nEmbeddings, Retrieval, and Reranking\\n\\nTraining & Optimization\\n\\n\\n\\nPEFT\\nParameter-efficient finetuning for large language models\\n\\n\\nAccelerate\\nTrain PyTorch models with multi-GPU, TPU, mixed precision\\n\\n\\nOptimum\\nOptimize HF Transformers for faster training/inference\\n\\n\\nAWS Trainium & Inferentia\\nTrain/deploy Transformers/Diffusers on AWS\\n\\n\\nTRL\\nTrain transformers LMs with reinforcement learning\\n\\n\\nSafetensors\\nSafe way to store/distribute neural network weights\\n\\n\\nBitsandbytes\\nOptimize and quantize models with bitsandbytes\\n\\n\\nLighteval\\nAll-in-one toolkit to evaluate LLMs across multiple backends\\n\\nCollaboration & Extras\\n\\n\\n\\nGradio\\nBuild ML demos and web apps with a few lines of Python\\n\\n\\nsmolagents\\nSmol library to build great agents in Python\\n\\n\\nLeRobot\\nMaking AI for Robotics more accessible with end-to-end learning\\n\\n\\nAutoTrain\\nAutoTrain API and UI for seamless model training\\n\\n\\nChat UI\\nOpen source chat frontend powering HuggingChat\\n\\n\\nLeaderboards\\nCreate custom Leaderboards on Hugging Face\\n\\n\\nArgilla\\nCollaboration tool for building high-quality datasets\\n\\n\\nDistilabel\\nFramework for synthetic data generation and AI feedback\\n\\n\\nCommunity\\n\\n\\t\\t\\t\\t\\tBlog\\n\\t\\t\\t\\t\\n\\n\\t\\t\\t\\t\\tLearn\\n\\t\\t\\t\\t\\n\\n\\t\\t\\t\\t\\tDiscord\\n\\t\\t\\t\\t\\n\\n\\t\\t\\t\\t\\tForum\\n\\t\\t\\t\\t\\n\\n\\t\\t\\t\\t\\tGithub\\n\\t\\t\\t\\t\\n\\n\\n\\n\\n\\t\\t\\tSystem theme\\n\\t\\t\\n\\nCompany\\nTOS\\nPrivacy\\nAbout\\nJobs\\n\\nWebsite\\nModels\\nDatasets\\nSpaces\\nPricing\\nDocs')]"
      ]
     },
     "execution_count": 199,
     "metadata": {},
     "output_type": "execute_result"
    }
   ],
   "source": [
    "documents_chunks\n"
   ]
  },
  {
   "cell_type": "code",
   "execution_count": 200,
   "id": "35667acd",
   "metadata": {},
   "outputs": [],
   "source": [
    "# # Find the retriver chat and documents \n",
    "def _get_context_retriever_chain (vector_db, llm):\n",
    "    #This turns your Chroma DB into a retriever object. LangChain uses this for semantic search over embeddings.\n",
    "    retriever = vector_db.as_retriever()\n",
    "\n",
    "    #This block defines the prompt that the LLM will see when it's generating a search query.\n",
    "    prompt = ChatPromptTemplate.from_messages([\n",
    "        MessagesPlaceholder(variable_name=\"messages\"),\n",
    "            (\"user\", \"{input}\"),\n",
    "            (\"user\",\"Given the above conversation,generate a search query to look up in order to n\\\n",
    "            get information relevant to the conversation, focusing on the most recent message.\"),\n",
    "            ])\n",
    "    retriever_chain = create_history_aware_retriever ( llm, retriever, prompt)\n",
    "\n",
    "    return retriever_chain #  this chain returns a retriever chain (not string). It returns Runnable that gives relevant Document objects based on message history."
   ]
  },
  {
   "cell_type": "code",
   "execution_count": null,
   "id": "ab74a8e8",
   "metadata": {},
   "outputs": [],
   "source": [
    "# this for complete RAG chain \n",
    "def get_conversational_rag_chain(llm):\n",
    "    #Output of this step: a LangChain retriever chain that returns List[Document]\n",
    "    retriever_chain = _get_context_retriever_chain (vector_db, llm)\n",
    "    #{context} placeholder that gets filled with relevant docs\n",
    "    prompt = ChatPromptTemplate.from_messages([\n",
    "        (\"system\" ,\n",
    "        \"\"\"You are a helpful assistant. Ypu will have to answer to user's queries \n",
    "        You will have some context to help with your answer, but now always would be completely related or helpful.\n",
    "        You can also use your knowledge to assit answering the user's queries.\\n            \n",
    "        {context}\"\"\"),\n",
    "        MessagesPlaceholder(variable_name=\"messages\"),\n",
    "        (\"user\",\"{input}\")\n",
    "    ])\n",
    "    # the output of stuff_documents_chain will be a string\n",
    "    stuff_documents_chain = stuff_documents_chain = create_stuff_documents_chain(llm, prompt)\n",
    "\n",
    "    return create_retrieval_chain(retriever_chain, stuff_documents_chain)\n",
    "    #Date 07/27/2025"
   ]
  },
  {
   "cell_type": "code",
   "execution_count": 202,
   "id": "88c63e46",
   "metadata": {},
   "outputs": [
    {
     "name": "stdout",
     "output_type": "stream",
     "text": [
      "Dhu Shammaa's LinkedIn profile can be found at www.linkedin.com/in/dhulfiqar-alshammaa-it.\n",
      "\n",
      "The second work position listed for Dhu Shammaa is as a Machine Learning Engineer - Internship at 101GenAI in San Francisco, CA, starting in May 2024 and currently ongoing."
     ]
    }
   ],
   "source": [
    "#Agmented Generation \n",
    "\n",
    "llm_stream_openai = ChatOpenAI(\n",
    "    model=\"gpt-4o\",\n",
    "    temperature=0.3,\n",
    "    streaming=True,\n",
    ")\n",
    "\n",
    "llm_stream_anthropic = ChatAnthropic(\n",
    "    model=\"claude-.-5-sonnet\",\n",
    "    temperature =0.3,\n",
    "    streaming=True,\n",
    ")\n",
    "\n",
    "llm_stream =llm_stream_openai \n",
    "\n",
    "messages = [\n",
    "    {\"role\" : \"user\",\"content\":\"Hi\"},\n",
    "    {\"role\" : \"assistant\", \"content\": \"Hi there! How can I assist you today ? \"},\n",
    "    {\"role\" : \"user\", \"content\" : \" What is Dhu Shamme linkedin and what was the 2nd work postion\"},\n",
    "]\n",
    "\n",
    "messages = [HumanMessage(content=m[\"content\"]) if m[\"role\"] == \"user\" else AIMessage(content=m[\"content\"]) for m in messages]\n",
    "\n",
    "conversation_rag_chain = get_conversational_rag_chain(llm_stream)\n",
    "response_message = \"*(RAG Response)*\\n\"\n",
    "for chunk in conversation_rag_chain.pick(\"answer\").stream({\"messages\": messages[:-1], \"input\":messages[-1].content}):\n",
    "    response_message += chunk \n",
    "    print(chunk,end=\"\", flush =True)\n",
    "    messages.append({\"role\": \"assistant\",\"content\": response_message})\n",
    "\n"
   ]
  }
 ],
 "metadata": {
  "kernelspec": {
   "display_name": "GenAi",
   "language": "python",
   "name": "python3"
  },
  "language_info": {
   "codemirror_mode": {
    "name": "ipython",
    "version": 3
   },
   "file_extension": ".py",
   "mimetype": "text/x-python",
   "name": "python",
   "nbconvert_exporter": "python",
   "pygments_lexer": "ipython3",
   "version": "3.11.9"
  }
 },
 "nbformat": 4,
 "nbformat_minor": 5
}
